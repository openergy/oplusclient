{
 "cells": [
  {
   "cell_type": "markdown",
   "metadata": {
    "pycharm": {
     "name": "#%% md\n"
    }
   },
   "source": [
    "# Cadastre\n",
    "\n",
    "Example montrant comment créer une géométrie sur la plateforme Oplus à partir de\n",
    "données du cadastre.\n",
    "\n",
    "Vous pouvez lancer ce notebook dans google colab:\n",
    "\n",
    "[![Open In Colab](https://colab.research.google.com/assets/colab-badge.svg)](https://colab.research.google.com/github/openergy/oplusclient/blob/master/samples/cadastre.ipynb)\n",
    "\n",
    "## Installation et import des dépendances"
   ]
  },
  {
   "cell_type": "code",
   "execution_count": null,
   "metadata": {},
   "outputs": [],
   "source": [
    "!pip install oplusclient geopandas shapely matplotlib descartes"
   ]
  },
  {
   "cell_type": "code",
   "execution_count": null,
   "metadata": {
    "pycharm": {
     "name": "#%%\n"
    }
   },
   "outputs": [],
   "source": [
    "import geopandas as pd\n",
    "import shapely\n",
    "import requests\n",
    "import io\n",
    "import gzip\n",
    "from oplusclient.tools import Floorplan\n",
    "from oplusclient import Client\n",
    "%matplotlib inline"
   ]
  },
  {
   "cell_type": "markdown",
   "metadata": {},
   "source": [
    "## Récupération des données de cadastre de la commune\n",
    "\n",
    "Changer lat et lon pour la latitude et longitude d'un point à l'intérieur du bâtiment. (à récupérer sur google maps par exemple)"
   ]
  },
  {
   "cell_type": "code",
   "execution_count": null,
   "metadata": {},
   "outputs": [],
   "source": [
    "lat, lon = 48.835039, 2.252281\n",
    "coords = [lon, lat]\n",
    "resp = requests.get(f\"https://geo.api.gouv.fr/communes?lon={lon}&lat={lat}\").json()\n",
    "if len(resp) == 0:\n",
    "    raise ValueError(\"Ces coordonnées ne sont pas dans une commune française.\")\n",
    "print(f\"Ville: {resp[0]['nom']}\")\n",
    "code_commune = resp[0][\"code\"]\n",
    "if code_commune == \"75056\":\n",
    "    arr = int(input(\"Pour Paris, veuillez donner le numéro d'arrondissement: \"))\n",
    "    code_commune = str(75100 + arr)\n",
    "elif code_commune == \"69123\":\n",
    "    arr = int(input(\"Pour Lyon, veuillez donner le numéro d'arrondissement: \"))\n",
    "    code_commune = str(69380 + arr)\n",
    "elif code_commune == \"13055\":\n",
    "    arr = int(input(\"Pour Marseille, veuillez donner le numéro d'arrondissement: \"))\n",
    "    code_commune = str(13200 + arr)\n",
    "df = pd.read_file(io.BytesIO(gzip.decompress(requests.get(\n",
    "    f\"https://cadastre.data.gouv.fr/bundler/cadastre-etalab/communes/{code_commune}/geojson-gz/batiments\"\n",
    ").content)))\n",
    "df.to_crs(epsg=2154).plot()"
   ]
  },
  {
   "cell_type": "markdown",
   "metadata": {},
   "source": [
    "## Restriction aux bâtiments environnants\n",
    "\n",
    "La variable `e` permet de déterminer dans quel périmètre on va récupérer les bâtiments alentour (pour faire des shadings)."
   ]
  },
  {
   "cell_type": "code",
   "execution_count": null,
   "metadata": {},
   "outputs": [],
   "source": [
    "e = 0.0005\n",
    "point = shapely.geometry.Point(coords)\n",
    "surroundings_df = df.cx[coords[0] - e: coords[0] + e, coords[1] - e: coords[1] + e]\n",
    "surroundings_df = surroundings_df.copy()\n",
    "surroundings_df[\"shading\"] = surroundings_df.geometry.map(lambda x: not point.within(x))\n",
    "base = surroundings_df.plot(\"shading\", figsize = (5,5))\n",
    "pd.GeoDataFrame(geometry=pd.points_from_xy([lon], [lat])).plot(ax=base, color='r')"
   ]
  },
  {
   "cell_type": "markdown",
   "metadata": {},
   "source": [
    "## Export vers oplus\n",
    "\n",
    "### Génération du floorplan"
   ]
  },
  {
   "cell_type": "code",
   "execution_count": null,
   "metadata": {
    "pycharm": {
     "name": "#%%\n"
    }
   },
   "outputs": [],
   "source": [
    "# creation d'un unique étage à partir du cadastre\n",
    "floorplan = Floorplan.geo_data_frame_to_floorplan(surroundings_df, story_name=\"etage_0\", story_height=4.5)"
   ]
  },
  {
   "cell_type": "code",
   "execution_count": null,
   "metadata": {},
   "outputs": [],
   "source": [
    "# ajout de deux étages\n",
    "for new_floor_name in (\"etage_1\", \"etage_2\"):\n",
    "    # ajout de l'étage\n",
    "    floorplan.add_story(new_floor_name, height=3)\n",
    "\n",
    "    # remplissage de toutes les zones thermiques à cet étage\n",
    "    for space in floorplan.json_data[\"stories\"][0][\"spaces\"]:  # on parcourt toutes les zones de l'étage 0\n",
    "        floorplan.copy_space_to_story(space[\"name\"], \"etage_0\", new_floor_name)  # on les copie dans l'étage 1\n",
    "\n",
    "    # remplissage de tous les shadings à cet étage (même logique)\n",
    "    for shading in floorplan.json_data[\"stories\"][0][\"shading\"]:\n",
    "        floorplan.copy_shading_to_story(shading[\"name\"], \"etage_0\", new_floor_name)"
   ]
  },
  {
   "cell_type": "code",
   "execution_count": null,
   "metadata": {},
   "outputs": [],
   "source": [
    "# creation d'une définition de vitrage (taux de surface vitrée : 30%)\n",
    "floorplan.add_window_definition(\"win_30\", window_definition_mode=\"windowToWallRatio\", wwr=0.3)\n",
    "\n",
    "# application de cette définition sur toutes les parois extérieures\n",
    "floorplan.add_window_to_all_exterior_edges(\"win_30\")"
   ]
  },
  {
   "cell_type": "markdown",
   "metadata": {
    "pycharm": {
     "name": "#%% md\n"
    }
   },
   "source": [
    "### Ajout dans la plateforme\n",
    "\n",
    "Modifier les variables organization_name, project_name, geometry_name et geometry_already_exists de manière appropriée\n",
    "(Le token demandé doit préalablement avoir été récupéré [ici](https://oplus-back.openergy.fr/api/v1/oteams/users/me/api_token)).\n",
    "\n",
    "Le projet doit avoir été créé au préalable."
   ]
  },
  {
   "cell_type": "code",
   "execution_count": null,
   "metadata": {},
   "outputs": [],
   "source": [
    "# transformation du floorplan en texte (pour envoi à Oplus)\n",
    "floorplan_str = floorplan.save()"
   ]
  },
  {
   "cell_type": "code",
   "execution_count": null,
   "metadata": {},
   "outputs": [],
   "source": [
    "organization_name = \"\"\n",
    "project_name = \"\"\n",
    "geometry_name = \"\"\n",
    "geometry_already_exists = False\n",
    "\n",
    "client = Client()\n",
    "orga = client.get_organization(organization_name)\n",
    "orga.take_seat()\n",
    "project = orga.get_project(project_name)\n",
    "if geometry_already_exists:\n",
    "    geometry = project.get_geometry(geometry_name)\n",
    "else:\n",
    "    geometry = project.create_geometry(geometry_name, \"floorspace\")\n",
    "geometry.import_file(io.StringIO(floorplan_str))\n",
    "orga.leave_seat()\n",
    "print(\n",
    "    \"La géométrie a été créée avec succès dans Oplus. Elle est visualisable ici:\\n\"\n",
    "    f\"https://oplus.openergy.fr/projects/{project.id}/geometries/{geometry.id}/viewer3D\"\n",
    ")\n"
   ]
  }
 ],
 "metadata": {
  "kernelspec": {
   "display_name": "Python 3",
   "language": "python",
   "name": "python3"
  },
  "language_info": {
   "codemirror_mode": {
    "name": "ipython",
    "version": 3
   },
   "file_extension": ".py",
   "mimetype": "text/x-python",
   "name": "python",
   "nbconvert_exporter": "python",
   "pygments_lexer": "ipython3",
   "version": "3.8.3"
  },
  "toc": {
   "base_numbering": 1,
   "nav_menu": {},
   "number_sections": true,
   "sideBar": true,
   "skip_h1_title": false,
   "title_cell": "Table of Contents",
   "title_sidebar": "Contents",
   "toc_cell": false,
   "toc_position": {},
   "toc_section_display": true,
   "toc_window_display": false
  }
 },
 "nbformat": 4,
 "nbformat_minor": 4
}
